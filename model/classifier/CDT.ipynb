{
 "cells": [
  {
   "cell_type": "markdown",
   "metadata": {},
   "source": [
    "Clasiffication"
   ]
  },
  {
   "cell_type": "markdown",
   "metadata": {},
   "source": [
    "**Paquetes**"
   ]
  },
  {
   "cell_type": "code",
   "execution_count": 1,
   "metadata": {},
   "outputs": [],
   "source": [
    "import pandas as pd \n",
    "from sklearn import preprocessing\n",
    "from sklearn.feature_selection import SelectKBest  #Se usa con test statical y select # of the better features\n",
    "from sklearn.feature_selection import mutual_info_classif\n",
    "\n",
    "from sklearn.ensemble import RandomForestClassifier\n",
    "\n",
    "from pprint import pprint\n",
    "import joblib\n",
    "\n",
    "from sklearn.metrics import f1_score\n",
    "from sklearn.model_selection import GridSearchCV\n",
    "from sklearn.metrics import accuracy_score, classification_report, confusion_matrix\n",
    "import matplotlib.pyplot as plt\n",
    "\n",
    "# modelos jerarquicos\n",
    "import models\n",
    "\n",
    "import numpy as np\n",
    "np.random.seed(1234)"
   ]
  },
  {
   "cell_type": "markdown",
   "metadata": {},
   "source": [
    "## 1) Load"
   ]
  },
  {
   "cell_type": "code",
   "execution_count": 2,
   "metadata": {},
   "outputs": [
    {
     "data": {
      "text/html": [
       "<div>\n",
       "<style scoped>\n",
       "    .dataframe tbody tr th:only-of-type {\n",
       "        vertical-align: middle;\n",
       "    }\n",
       "\n",
       "    .dataframe tbody tr th {\n",
       "        vertical-align: top;\n",
       "    }\n",
       "\n",
       "    .dataframe thead th {\n",
       "        text-align: right;\n",
       "    }\n",
       "</style>\n",
       "<table border=\"1\" class=\"dataframe\">\n",
       "  <thead>\n",
       "    <tr style=\"text-align: right;\">\n",
       "      <th></th>\n",
       "      <th>id_vvv</th>\n",
       "      <th>Amplitude</th>\n",
       "      <th>AndersonDarling</th>\n",
       "      <th>Autocor_length</th>\n",
       "      <th>Beyond1Std</th>\n",
       "      <th>CAR_mean</th>\n",
       "      <th>CAR_sigma</th>\n",
       "      <th>CAR_tau</th>\n",
       "      <th>Con</th>\n",
       "      <th>Eta_e</th>\n",
       "      <th>...</th>\n",
       "      <th>StetsonK_AC</th>\n",
       "      <th>StructureFunction_index_21</th>\n",
       "      <th>StructureFunction_index_31</th>\n",
       "      <th>StructureFunction_index_32</th>\n",
       "      <th>Period_KFI</th>\n",
       "      <th>Period_PAN</th>\n",
       "      <th>Period_LSG</th>\n",
       "      <th>Period_PDM</th>\n",
       "      <th>Period_STR</th>\n",
       "      <th>dmin</th>\n",
       "    </tr>\n",
       "  </thead>\n",
       "  <tbody>\n",
       "    <tr>\n",
       "      <th>0</th>\n",
       "      <td>5.158818e+11</td>\n",
       "      <td>0.375037</td>\n",
       "      <td>0.982969</td>\n",
       "      <td>1.0</td>\n",
       "      <td>0.266667</td>\n",
       "      <td>33.405273</td>\n",
       "      <td>10.0</td>\n",
       "      <td>0.5</td>\n",
       "      <td>0.0</td>\n",
       "      <td>1206468.2</td>\n",
       "      <td>...</td>\n",
       "      <td>0.667972</td>\n",
       "      <td>1.453847</td>\n",
       "      <td>1.733140</td>\n",
       "      <td>1.273550</td>\n",
       "      <td>0.057703</td>\n",
       "      <td>0.058487</td>\n",
       "      <td>0.158880</td>\n",
       "      <td>0.158877</td>\n",
       "      <td>0.158882</td>\n",
       "      <td>0.036198</td>\n",
       "    </tr>\n",
       "    <tr>\n",
       "      <th>1</th>\n",
       "      <td>5.158818e+11</td>\n",
       "      <td>0.173605</td>\n",
       "      <td>1.000000</td>\n",
       "      <td>1.0</td>\n",
       "      <td>0.217391</td>\n",
       "      <td>27.477640</td>\n",
       "      <td>10.0</td>\n",
       "      <td>0.5</td>\n",
       "      <td>0.0</td>\n",
       "      <td>0.0</td>\n",
       "      <td>...</td>\n",
       "      <td>0.682698</td>\n",
       "      <td>1.413160</td>\n",
       "      <td>1.649071</td>\n",
       "      <td>1.210574</td>\n",
       "      <td>0.345819</td>\n",
       "      <td>0.345819</td>\n",
       "      <td>0.345819</td>\n",
       "      <td>0.256950</td>\n",
       "      <td>0.345819</td>\n",
       "      <td>0.050266</td>\n",
       "    </tr>\n",
       "  </tbody>\n",
       "</table>\n",
       "<p>2 rows × 70 columns</p>\n",
       "</div>"
      ],
      "text/plain": [
       "         id_vvv  Amplitude  AndersonDarling  Autocor_length  Beyond1Std  \\\n",
       "0  5.158818e+11   0.375037         0.982969             1.0    0.266667   \n",
       "1  5.158818e+11   0.173605         1.000000             1.0    0.217391   \n",
       "\n",
       "    CAR_mean  CAR_sigma  CAR_tau  Con      Eta_e  ...  StetsonK_AC  \\\n",
       "0  33.405273       10.0      0.5  0.0  1206468.2  ...     0.667972   \n",
       "1  27.477640       10.0      0.5  0.0        0.0  ...     0.682698   \n",
       "\n",
       "   StructureFunction_index_21  StructureFunction_index_31  \\\n",
       "0                    1.453847                    1.733140   \n",
       "1                    1.413160                    1.649071   \n",
       "\n",
       "   StructureFunction_index_32  Period_KFI  Period_PAN  Period_LSG  Period_PDM  \\\n",
       "0                    1.273550    0.057703    0.058487    0.158880    0.158877   \n",
       "1                    1.210574    0.345819    0.345819    0.345819    0.256950   \n",
       "\n",
       "   Period_STR      dmin  \n",
       "0    0.158882  0.036198  \n",
       "1    0.345819  0.050266  \n",
       "\n",
       "[2 rows x 70 columns]"
      ]
     },
     "metadata": {},
     "output_type": "display_data"
    },
    {
     "data": {
      "text/plain": [
       "(728, 70)"
      ]
     },
     "metadata": {},
     "output_type": "display_data"
    },
    {
     "data": {
      "text/html": [
       "<div>\n",
       "<style scoped>\n",
       "    .dataframe tbody tr th:only-of-type {\n",
       "        vertical-align: middle;\n",
       "    }\n",
       "\n",
       "    .dataframe tbody tr th {\n",
       "        vertical-align: top;\n",
       "    }\n",
       "\n",
       "    .dataframe thead th {\n",
       "        text-align: right;\n",
       "    }\n",
       "</style>\n",
       "<table border=\"1\" class=\"dataframe\">\n",
       "  <thead>\n",
       "    <tr style=\"text-align: right;\">\n",
       "      <th></th>\n",
       "      <th>id_vvv</th>\n",
       "      <th>ra(J2000)</th>\n",
       "      <th>dec(J2000)</th>\n",
       "      <th>ksEMeanMagPawprint</th>\n",
       "    </tr>\n",
       "  </thead>\n",
       "  <tbody>\n",
       "    <tr>\n",
       "      <th>0</th>\n",
       "      <td>5.158818e+11</td>\n",
       "      <td>178.26020</td>\n",
       "      <td>-62.108135</td>\n",
       "      <td>16.703827</td>\n",
       "    </tr>\n",
       "    <tr>\n",
       "      <th>1</th>\n",
       "      <td>5.158818e+11</td>\n",
       "      <td>178.36063</td>\n",
       "      <td>-61.914257</td>\n",
       "      <td>13.738820</td>\n",
       "    </tr>\n",
       "  </tbody>\n",
       "</table>\n",
       "</div>"
      ],
      "text/plain": [
       "         id_vvv  ra(J2000)  dec(J2000)  ksEMeanMagPawprint\n",
       "0  5.158818e+11  178.26020  -62.108135           16.703827\n",
       "1  5.158818e+11  178.36063  -61.914257           13.738820"
      ]
     },
     "metadata": {},
     "output_type": "display_data"
    },
    {
     "data": {
      "text/plain": [
       "(728, 4)"
      ]
     },
     "execution_count": 2,
     "metadata": {},
     "output_type": "execute_result"
    }
   ],
   "source": [
    "# Binarias a clasificar feets + periodos\n",
    "ruta1 = '../../data/outputs/outputPaso2clasificar.csv'\n",
    "df1 = pd.read_csv(ruta1)\n",
    "display(df1.head(2))\n",
    "display(df1.shape)\n",
    "f1_id_vvv = df1['id_vvv'].values #necesito esta lista con el id intacto\n",
    "\n",
    "# Binarias id_vvv\tra(J2000)\tdec(J2000)\tksEMeanMagPawprint\n",
    "ruta2 = '../../data/outputs/outputPaso2ebs.csv'\n",
    "df2 = pd.read_csv(ruta2)\n",
    "display(df2.head(2))\n",
    "f2_id_vvv = df1['id_vvv'].values\n",
    "df2.shape\n",
    "\n",
    "#ruta = '../3_clases/pasos/Test'\n",
    "#df_test = pd.read_csv(ruta)\n",
    "#X_test, y_test  = df_test.iloc[:, :-1], df_test.target\n",
    "#display(X_test.shape, y_test.shape)"
   ]
  },
  {
   "cell_type": "code",
   "execution_count": 3,
   "metadata": {},
   "outputs": [
    {
     "name": "stdout",
     "output_type": "stream",
     "text": [
      "<class 'pandas.core.frame.DataFrame'>\n",
      "RangeIndex: 728 entries, 0 to 727\n",
      "Data columns (total 70 columns):\n",
      " #   Column                           Non-Null Count  Dtype  \n",
      "---  ------                           --------------  -----  \n",
      " 0   id_vvv                           728 non-null    float64\n",
      " 1   Amplitude                        728 non-null    float64\n",
      " 2   AndersonDarling                  728 non-null    float64\n",
      " 3   Autocor_length                   728 non-null    float64\n",
      " 4   Beyond1Std                       728 non-null    float64\n",
      " 5   CAR_mean                         728 non-null    float64\n",
      " 6   CAR_sigma                        728 non-null    float64\n",
      " 7   CAR_tau                          728 non-null    float64\n",
      " 8   Con                              728 non-null    float64\n",
      " 9   Eta_e                            728 non-null    float64\n",
      " 10  FluxPercentileRatioMid20         728 non-null    float64\n",
      " 11  FluxPercentileRatioMid35         728 non-null    float64\n",
      " 12  FluxPercentileRatioMid50         728 non-null    float64\n",
      " 13  FluxPercentileRatioMid65         728 non-null    float64\n",
      " 14  FluxPercentileRatioMid80         728 non-null    float64\n",
      " 15  Freq1_harmonics_amplitude_0      728 non-null    float64\n",
      " 16  Freq1_harmonics_amplitude_1      728 non-null    float64\n",
      " 17  Freq1_harmonics_amplitude_2      728 non-null    float64\n",
      " 18  Freq1_harmonics_amplitude_3      728 non-null    float64\n",
      " 19  Freq1_harmonics_rel_phase_0      728 non-null    float64\n",
      " 20  Freq1_harmonics_rel_phase_1      728 non-null    float64\n",
      " 21  Freq1_harmonics_rel_phase_2      728 non-null    float64\n",
      " 22  Freq1_harmonics_rel_phase_3      728 non-null    float64\n",
      " 23  Freq2_harmonics_amplitude_0      728 non-null    float64\n",
      " 24  Freq2_harmonics_amplitude_1      728 non-null    float64\n",
      " 25  Freq2_harmonics_amplitude_2      728 non-null    float64\n",
      " 26  Freq2_harmonics_amplitude_3      728 non-null    float64\n",
      " 27  Freq2_harmonics_rel_phase_0      728 non-null    float64\n",
      " 28  Freq2_harmonics_rel_phase_1      728 non-null    float64\n",
      " 29  Freq2_harmonics_rel_phase_2      728 non-null    float64\n",
      " 30  Freq2_harmonics_rel_phase_3      728 non-null    float64\n",
      " 31  Freq3_harmonics_amplitude_0      728 non-null    float64\n",
      " 32  Freq3_harmonics_amplitude_1      728 non-null    float64\n",
      " 33  Freq3_harmonics_amplitude_2      728 non-null    float64\n",
      " 34  Freq3_harmonics_amplitude_3      728 non-null    float64\n",
      " 35  Freq3_harmonics_rel_phase_0      728 non-null    float64\n",
      " 36  Freq3_harmonics_rel_phase_1      728 non-null    float64\n",
      " 37  Freq3_harmonics_rel_phase_2      728 non-null    float64\n",
      " 38  Freq3_harmonics_rel_phase_3      728 non-null    float64\n",
      " 39  Gskew                            728 non-null    float64\n",
      " 40  LinearTrend                      728 non-null    float64\n",
      " 41  MaxSlope                         728 non-null    float64\n",
      " 42  Mean                             728 non-null    float64\n",
      " 43  Meanvariance                     728 non-null    float64\n",
      " 44  MedianAbsDev                     728 non-null    float64\n",
      " 45  MedianBRP                        728 non-null    float64\n",
      " 46  PairSlopeTrend                   728 non-null    float64\n",
      " 47  PercentAmplitude                 728 non-null    float64\n",
      " 48  PercentDifferenceFluxPercentile  728 non-null    float64\n",
      " 49  PeriodLS                         728 non-null    float64\n",
      " 50  Period_fit                       728 non-null    float64\n",
      " 51  Psi_CS                           728 non-null    float64\n",
      " 52  Psi_eta                          728 non-null    float64\n",
      " 53  Q31                              728 non-null    float64\n",
      " 54  Rcs                              728 non-null    float64\n",
      " 55  Skew                             728 non-null    float64\n",
      " 56  SlottedA_length                  728 non-null    float64\n",
      " 57  SmallKurtosis                    728 non-null    float64\n",
      " 58  Std                              728 non-null    float64\n",
      " 59  StetsonK                         728 non-null    float64\n",
      " 60  StetsonK_AC                      728 non-null    float64\n",
      " 61  StructureFunction_index_21       728 non-null    float64\n",
      " 62  StructureFunction_index_31       728 non-null    float64\n",
      " 63  StructureFunction_index_32       728 non-null    float64\n",
      " 64  Period_KFI                       728 non-null    float64\n",
      " 65  Period_PAN                       728 non-null    float64\n",
      " 66  Period_LSG                       728 non-null    float64\n",
      " 67  Period_PDM                       728 non-null    float64\n",
      " 68  Period_STR                       728 non-null    float64\n",
      " 69  dmin                             728 non-null    float64\n",
      "dtypes: float64(70)\n",
      "memory usage: 398.2 KB\n"
     ]
    },
    {
     "data": {
      "text/plain": [
       "'Existen valores NaN'"
      ]
     },
     "metadata": {},
     "output_type": "display_data"
    },
    {
     "data": {
      "text/plain": [
       "None"
      ]
     },
     "metadata": {},
     "output_type": "display_data"
    },
    {
     "name": "stdout",
     "output_type": "stream",
     "text": [
      "<class 'pandas.core.frame.DataFrame'>\n",
      "RangeIndex: 728 entries, 0 to 727\n",
      "Data columns (total 4 columns):\n",
      " #   Column              Non-Null Count  Dtype  \n",
      "---  ------              --------------  -----  \n",
      " 0   id_vvv              728 non-null    float64\n",
      " 1   ra(J2000)           728 non-null    float64\n",
      " 2   dec(J2000)          728 non-null    float64\n",
      " 3   ksEMeanMagPawprint  728 non-null    float64\n",
      "dtypes: float64(4)\n",
      "memory usage: 22.9 KB\n"
     ]
    },
    {
     "data": {
      "text/plain": [
       "'Existen valores NaN'"
      ]
     },
     "metadata": {},
     "output_type": "display_data"
    },
    {
     "data": {
      "text/plain": [
       "None"
      ]
     },
     "metadata": {},
     "output_type": "display_data"
    }
   ],
   "source": [
    "display('Existen valores NaN', df1.info())\n",
    "display('Existen valores NaN', df2.info())"
   ]
  },
  {
   "cell_type": "code",
   "execution_count": 4,
   "metadata": {},
   "outputs": [
    {
     "data": {
      "text/plain": [
       "515881822600.0"
      ]
     },
     "metadata": {},
     "output_type": "display_data"
    },
    {
     "data": {
      "text/plain": [
       "515881822600.0"
      ]
     },
     "execution_count": 4,
     "metadata": {},
     "output_type": "execute_result"
    }
   ],
   "source": [
    "display(df1.id_vvv[0])\n",
    "df2.id_vvv[0]"
   ]
  },
  {
   "cell_type": "markdown",
   "metadata": {},
   "source": [
    "df1 = pd.DataFrame(df1.astype(np.float32).values, columns=df1.columns)\n",
    "df2 = pd.DataFrame(df2.astype(np.float32).values, columns=df2.columns)"
   ]
  },
  {
   "cell_type": "code",
   "execution_count": 5,
   "metadata": {},
   "outputs": [
    {
     "data": {
      "text/plain": [
       "515881822600.0"
      ]
     },
     "metadata": {},
     "output_type": "display_data"
    },
    {
     "data": {
      "text/plain": [
       "515881822600.0"
      ]
     },
     "execution_count": 5,
     "metadata": {},
     "output_type": "execute_result"
    }
   ],
   "source": [
    "display(df1.id_vvv[0])\n",
    "df2.id_vvv[0]"
   ]
  },
  {
   "cell_type": "code",
   "execution_count": 6,
   "metadata": {},
   "outputs": [
    {
     "data": {
      "text/plain": [
       "'Existen valores NaN'"
      ]
     },
     "metadata": {},
     "output_type": "display_data"
    },
    {
     "data": {
      "text/plain": [
       "False"
      ]
     },
     "metadata": {},
     "output_type": "display_data"
    },
    {
     "data": {
      "text/plain": [
       "'Existen valores NaN'"
      ]
     },
     "metadata": {},
     "output_type": "display_data"
    },
    {
     "data": {
      "text/plain": [
       "False"
      ]
     },
     "metadata": {},
     "output_type": "display_data"
    },
    {
     "data": {
      "text/plain": [
       "'Existen valores finite'"
      ]
     },
     "metadata": {},
     "output_type": "display_data"
    },
    {
     "data": {
      "text/plain": [
       "False"
      ]
     },
     "metadata": {},
     "output_type": "display_data"
    },
    {
     "data": {
      "text/plain": [
       "'Existen valores finite'"
      ]
     },
     "metadata": {},
     "output_type": "display_data"
    },
    {
     "data": {
      "text/plain": [
       "False"
      ]
     },
     "metadata": {},
     "output_type": "display_data"
    }
   ],
   "source": [
    "display('Existen valores NaN', df1.isnull().values.any())\n",
    "display('Existen valores NaN', df2.isnull().values.any())\n",
    "\n",
    "display('Existen valores finite', df1.isin([np.inf, -np.inf]).values.any())\n",
    "display('Existen valores finite', df2.isin([np.inf, -np.inf]).values.any())\n"
   ]
  },
  {
   "cell_type": "code",
   "execution_count": 7,
   "metadata": {},
   "outputs": [
    {
     "name": "stdout",
     "output_type": "stream",
     "text": [
      "<class 'pandas.core.frame.DataFrame'>\n",
      "RangeIndex: 728 entries, 0 to 727\n",
      "Data columns (total 70 columns):\n",
      " #   Column                           Non-Null Count  Dtype  \n",
      "---  ------                           --------------  -----  \n",
      " 0   id_vvv                           728 non-null    float64\n",
      " 1   Amplitude                        728 non-null    float64\n",
      " 2   AndersonDarling                  728 non-null    float64\n",
      " 3   Autocor_length                   728 non-null    float64\n",
      " 4   Beyond1Std                       728 non-null    float64\n",
      " 5   CAR_mean                         728 non-null    float64\n",
      " 6   CAR_sigma                        728 non-null    float64\n",
      " 7   CAR_tau                          728 non-null    float64\n",
      " 8   Con                              728 non-null    float64\n",
      " 9   Eta_e                            728 non-null    float64\n",
      " 10  FluxPercentileRatioMid20         728 non-null    float64\n",
      " 11  FluxPercentileRatioMid35         728 non-null    float64\n",
      " 12  FluxPercentileRatioMid50         728 non-null    float64\n",
      " 13  FluxPercentileRatioMid65         728 non-null    float64\n",
      " 14  FluxPercentileRatioMid80         728 non-null    float64\n",
      " 15  Freq1_harmonics_amplitude_0      728 non-null    float64\n",
      " 16  Freq1_harmonics_amplitude_1      728 non-null    float64\n",
      " 17  Freq1_harmonics_amplitude_2      728 non-null    float64\n",
      " 18  Freq1_harmonics_amplitude_3      728 non-null    float64\n",
      " 19  Freq1_harmonics_rel_phase_0      728 non-null    float64\n",
      " 20  Freq1_harmonics_rel_phase_1      728 non-null    float64\n",
      " 21  Freq1_harmonics_rel_phase_2      728 non-null    float64\n",
      " 22  Freq1_harmonics_rel_phase_3      728 non-null    float64\n",
      " 23  Freq2_harmonics_amplitude_0      728 non-null    float64\n",
      " 24  Freq2_harmonics_amplitude_1      728 non-null    float64\n",
      " 25  Freq2_harmonics_amplitude_2      728 non-null    float64\n",
      " 26  Freq2_harmonics_amplitude_3      728 non-null    float64\n",
      " 27  Freq2_harmonics_rel_phase_0      728 non-null    float64\n",
      " 28  Freq2_harmonics_rel_phase_1      728 non-null    float64\n",
      " 29  Freq2_harmonics_rel_phase_2      728 non-null    float64\n",
      " 30  Freq2_harmonics_rel_phase_3      728 non-null    float64\n",
      " 31  Freq3_harmonics_amplitude_0      728 non-null    float64\n",
      " 32  Freq3_harmonics_amplitude_1      728 non-null    float64\n",
      " 33  Freq3_harmonics_amplitude_2      728 non-null    float64\n",
      " 34  Freq3_harmonics_amplitude_3      728 non-null    float64\n",
      " 35  Freq3_harmonics_rel_phase_0      728 non-null    float64\n",
      " 36  Freq3_harmonics_rel_phase_1      728 non-null    float64\n",
      " 37  Freq3_harmonics_rel_phase_2      728 non-null    float64\n",
      " 38  Freq3_harmonics_rel_phase_3      728 non-null    float64\n",
      " 39  Gskew                            728 non-null    float64\n",
      " 40  LinearTrend                      728 non-null    float64\n",
      " 41  MaxSlope                         728 non-null    float64\n",
      " 42  Mean                             728 non-null    float64\n",
      " 43  Meanvariance                     728 non-null    float64\n",
      " 44  MedianAbsDev                     728 non-null    float64\n",
      " 45  MedianBRP                        728 non-null    float64\n",
      " 46  PairSlopeTrend                   728 non-null    float64\n",
      " 47  PercentAmplitude                 728 non-null    float64\n",
      " 48  PercentDifferenceFluxPercentile  728 non-null    float64\n",
      " 49  PeriodLS                         728 non-null    float64\n",
      " 50  Period_fit                       728 non-null    float64\n",
      " 51  Psi_CS                           728 non-null    float64\n",
      " 52  Psi_eta                          728 non-null    float64\n",
      " 53  Q31                              728 non-null    float64\n",
      " 54  Rcs                              728 non-null    float64\n",
      " 55  Skew                             728 non-null    float64\n",
      " 56  SlottedA_length                  728 non-null    float64\n",
      " 57  SmallKurtosis                    728 non-null    float64\n",
      " 58  Std                              728 non-null    float64\n",
      " 59  StetsonK                         728 non-null    float64\n",
      " 60  StetsonK_AC                      728 non-null    float64\n",
      " 61  StructureFunction_index_21       728 non-null    float64\n",
      " 62  StructureFunction_index_31       728 non-null    float64\n",
      " 63  StructureFunction_index_32       728 non-null    float64\n",
      " 64  Period_KFI                       728 non-null    float64\n",
      " 65  Period_PAN                       728 non-null    float64\n",
      " 66  Period_LSG                       728 non-null    float64\n",
      " 67  Period_PDM                       728 non-null    float64\n",
      " 68  Period_STR                       728 non-null    float64\n",
      " 69  dmin                             728 non-null    float64\n",
      "dtypes: float64(70)\n",
      "memory usage: 398.2 KB\n"
     ]
    },
    {
     "data": {
      "text/plain": [
       "'Existen valores NaN'"
      ]
     },
     "metadata": {},
     "output_type": "display_data"
    },
    {
     "data": {
      "text/plain": [
       "None"
      ]
     },
     "metadata": {},
     "output_type": "display_data"
    },
    {
     "name": "stdout",
     "output_type": "stream",
     "text": [
      "<class 'pandas.core.frame.DataFrame'>\n",
      "RangeIndex: 728 entries, 0 to 727\n",
      "Data columns (total 4 columns):\n",
      " #   Column              Non-Null Count  Dtype  \n",
      "---  ------              --------------  -----  \n",
      " 0   id_vvv              728 non-null    float64\n",
      " 1   ra(J2000)           728 non-null    float64\n",
      " 2   dec(J2000)          728 non-null    float64\n",
      " 3   ksEMeanMagPawprint  728 non-null    float64\n",
      "dtypes: float64(4)\n",
      "memory usage: 22.9 KB\n"
     ]
    },
    {
     "data": {
      "text/plain": [
       "'Existen valores NaN'"
      ]
     },
     "metadata": {},
     "output_type": "display_data"
    },
    {
     "data": {
      "text/plain": [
       "None"
      ]
     },
     "metadata": {},
     "output_type": "display_data"
    }
   ],
   "source": [
    "display('Existen valores NaN', df1.info())\n",
    "display('Existen valores NaN', df2.info())"
   ]
  },
  {
   "cell_type": "code",
   "execution_count": 8,
   "metadata": {},
   "outputs": [],
   "source": [
    "df1 = df1.replace([np.inf, -np.inf], np.nan)\n",
    "df1 = df1.fillna(0)\n",
    "\n",
    "df2 = df2.replace([np.inf, -np.inf], np.nan)\n",
    "df2 = df2.fillna(0)"
   ]
  },
  {
   "cell_type": "code",
   "execution_count": 9,
   "metadata": {},
   "outputs": [
    {
     "data": {
      "text/plain": [
       "'Existen valores finite'"
      ]
     },
     "metadata": {},
     "output_type": "display_data"
    },
    {
     "data": {
      "text/plain": [
       "False"
      ]
     },
     "metadata": {},
     "output_type": "display_data"
    },
    {
     "data": {
      "text/plain": [
       "'Existen valores finite'"
      ]
     },
     "metadata": {},
     "output_type": "display_data"
    },
    {
     "data": {
      "text/plain": [
       "False"
      ]
     },
     "metadata": {},
     "output_type": "display_data"
    }
   ],
   "source": [
    "display('Existen valores finite', df1.isin([np.inf, -np.inf]).values.any())\n",
    "display('Existen valores finite', df2.isin([np.inf, -np.inf]).values.any())"
   ]
  },
  {
   "cell_type": "code",
   "execution_count": 10,
   "metadata": {},
   "outputs": [],
   "source": [
    "df1['id_vvv'] = f1_id_vvv"
   ]
  },
  {
   "cell_type": "markdown",
   "metadata": {},
   "source": [
    "## Preprocesado"
   ]
  },
  {
   "cell_type": "code",
   "execution_count": 11,
   "metadata": {},
   "outputs": [],
   "source": [
    "drop_columns = ['Freq3_harmonics_rel_phase_0', 'CAR_tau',\n",
    "                'Freq1_harmonics_rel_phase_0',\n",
    "                'CAR_sigma', 'Freq2_harmonics_rel_phase_0', \n",
    "                'Period_STR', 'Period_LSG', 'Period_KFI', 'Period_PAN', 'Period_PDM']"
   ]
  },
  {
   "cell_type": "code",
   "execution_count": 12,
   "metadata": {},
   "outputs": [],
   "source": [
    "X_1 = df1.drop(drop_columns, axis=1).copy()\n",
    "X = X_1.drop('id_vvv', axis=1).copy()\n",
    "X = X.values"
   ]
  },
  {
   "cell_type": "markdown",
   "metadata": {},
   "source": [
    "## 3) Model"
   ]
  },
  {
   "cell_type": "code",
   "execution_count": 27,
   "metadata": {},
   "outputs": [
    {
     "data": {
      "text/plain": [
       "MinMaxScaler()"
      ]
     },
     "execution_count": 27,
     "metadata": {},
     "output_type": "execute_result"
    }
   ],
   "source": [
    "minmax"
   ]
  },
  {
   "cell_type": "code",
   "execution_count": 13,
   "metadata": {},
   "outputs": [],
   "source": [
    "# Minimización\n",
    "#minmax = joblib.load(\"../preprocesado/min_max_scaler76.joblib\")\n",
    "minmax = joblib.load(\"../preprocesado/min_max_scaler134.joblib\")\n",
    "X_scale =  minmax.transform(X).copy()\n",
    "\n",
    "# Selección de Características\n",
    "#IM = joblib.load('../preprocesado/fs_IM76.joblib')\n",
    "IM = joblib.load('../preprocesado/fs_IM134.joblib')\n",
    "X_IM =  IM.transform(X_scale).copy()"
   ]
  },
  {
   "cell_type": "markdown",
   "metadata": {},
   "source": [
    "**Clasificación**"
   ]
  },
  {
   "cell_type": "code",
   "execution_count": 14,
   "metadata": {},
   "outputs": [],
   "source": [
    "y_pred = []\n",
    "\n",
    "'''Clasificación M1'''\n",
    "X1 = models.M1(X_IM)\n",
    "\n",
    "'''Clasificación M2 y M3, esto lo hace por elemento'''\n",
    "for i in range(X1.shape[0]):\n",
    "    if X1[i] == 0:\n",
    "        M2, x2 = models.M2(X_IM[i].reshape(1, -1))\n",
    "        #print(i, M2, 'count', x2[0])\n",
    "        y_pred.append(x2[0])\n",
    "    else:\n",
    "        M3, x3 = models.M3(X_IM[i].reshape(1, -1))\n",
    "        y_pred.append(x3[0])"
   ]
  },
  {
   "cell_type": "markdown",
   "metadata": {},
   "source": [
    "**Guardo las clasificaciones**"
   ]
  },
  {
   "cell_type": "code",
   "execution_count": 15,
   "metadata": {},
   "outputs": [
    {
     "data": {
      "text/plain": [
       "728"
      ]
     },
     "execution_count": 15,
     "metadata": {},
     "output_type": "execute_result"
    }
   ],
   "source": [
    "len(y_pred)"
   ]
  },
  {
   "cell_type": "code",
   "execution_count": 16,
   "metadata": {},
   "outputs": [
    {
     "data": {
      "text/html": [
       "<div>\n",
       "<style scoped>\n",
       "    .dataframe tbody tr th:only-of-type {\n",
       "        vertical-align: middle;\n",
       "    }\n",
       "\n",
       "    .dataframe tbody tr th {\n",
       "        vertical-align: top;\n",
       "    }\n",
       "\n",
       "    .dataframe thead th {\n",
       "        text-align: right;\n",
       "    }\n",
       "</style>\n",
       "<table border=\"1\" class=\"dataframe\">\n",
       "  <thead>\n",
       "    <tr style=\"text-align: right;\">\n",
       "      <th></th>\n",
       "      <th>id_vvv</th>\n",
       "      <th>ra(J2000)</th>\n",
       "      <th>dec(J2000)</th>\n",
       "      <th>ksEMeanMagPawprint</th>\n",
       "    </tr>\n",
       "  </thead>\n",
       "  <tbody>\n",
       "    <tr>\n",
       "      <th>0</th>\n",
       "      <td>5.158818e+11</td>\n",
       "      <td>178.26020</td>\n",
       "      <td>-62.108135</td>\n",
       "      <td>16.703827</td>\n",
       "    </tr>\n",
       "    <tr>\n",
       "      <th>1</th>\n",
       "      <td>5.158818e+11</td>\n",
       "      <td>178.36063</td>\n",
       "      <td>-61.914257</td>\n",
       "      <td>13.738820</td>\n",
       "    </tr>\n",
       "  </tbody>\n",
       "</table>\n",
       "</div>"
      ],
      "text/plain": [
       "         id_vvv  ra(J2000)  dec(J2000)  ksEMeanMagPawprint\n",
       "0  5.158818e+11  178.26020  -62.108135           16.703827\n",
       "1  5.158818e+11  178.36063  -61.914257           13.738820"
      ]
     },
     "execution_count": 16,
     "metadata": {},
     "output_type": "execute_result"
    }
   ],
   "source": [
    "df2a = df2.copy()\n",
    "df2a.head(2)"
   ]
  },
  {
   "cell_type": "code",
   "execution_count": 17,
   "metadata": {},
   "outputs": [],
   "source": [
    "df2a['PeriodLS'] = df1.PeriodLS\n",
    "df2a['jeras_class'] = y_pred"
   ]
  },
  {
   "cell_type": "code",
   "execution_count": 18,
   "metadata": {},
   "outputs": [
    {
     "data": {
      "text/html": [
       "<div>\n",
       "<style scoped>\n",
       "    .dataframe tbody tr th:only-of-type {\n",
       "        vertical-align: middle;\n",
       "    }\n",
       "\n",
       "    .dataframe tbody tr th {\n",
       "        vertical-align: top;\n",
       "    }\n",
       "\n",
       "    .dataframe thead th {\n",
       "        text-align: right;\n",
       "    }\n",
       "</style>\n",
       "<table border=\"1\" class=\"dataframe\">\n",
       "  <thead>\n",
       "    <tr style=\"text-align: right;\">\n",
       "      <th></th>\n",
       "      <th>id_vvv</th>\n",
       "      <th>ra(J2000)</th>\n",
       "      <th>dec(J2000)</th>\n",
       "      <th>ksEMeanMagPawprint</th>\n",
       "      <th>PeriodLS</th>\n",
       "      <th>jeras_class</th>\n",
       "    </tr>\n",
       "  </thead>\n",
       "  <tbody>\n",
       "    <tr>\n",
       "      <th>0</th>\n",
       "      <td>5.158818e+11</td>\n",
       "      <td>178.26020</td>\n",
       "      <td>-62.108135</td>\n",
       "      <td>16.703827</td>\n",
       "      <td>0.970470</td>\n",
       "      <td>0</td>\n",
       "    </tr>\n",
       "    <tr>\n",
       "      <th>1</th>\n",
       "      <td>5.158818e+11</td>\n",
       "      <td>178.36063</td>\n",
       "      <td>-61.914257</td>\n",
       "      <td>13.738820</td>\n",
       "      <td>0.256959</td>\n",
       "      <td>2</td>\n",
       "    </tr>\n",
       "  </tbody>\n",
       "</table>\n",
       "</div>"
      ],
      "text/plain": [
       "         id_vvv  ra(J2000)  dec(J2000)  ksEMeanMagPawprint  PeriodLS  \\\n",
       "0  5.158818e+11  178.26020  -62.108135           16.703827  0.970470   \n",
       "1  5.158818e+11  178.36063  -61.914257           13.738820  0.256959   \n",
       "\n",
       "   jeras_class  \n",
       "0            0  \n",
       "1            2  "
      ]
     },
     "execution_count": 18,
     "metadata": {},
     "output_type": "execute_result"
    }
   ],
   "source": [
    "df2a.head(2)"
   ]
  },
  {
   "cell_type": "code",
   "execution_count": 19,
   "metadata": {},
   "outputs": [
    {
     "data": {
      "text/plain": [
       "<AxesSubplot:>"
      ]
     },
     "execution_count": 19,
     "metadata": {},
     "output_type": "execute_result"
    },
    {
     "data": {
      "image/png": "[encoded data removed]",
      "text/plain": [
       "<Figure size 432x288 with 1 Axes>"
      ]
     },
     "metadata": {
      "needs_background": "light"
     },
     "output_type": "display_data"
    }
   ],
   "source": [
    "df2a['jeras_class'].hist()"
   ]
  },
  {
   "cell_type": "markdown",
   "metadata": {},
   "source": [
    "**Transforma la variable class de cuantitativa a cualitativa**\n",
    "\n",
    "-  0  -> detached\n",
    "-  1 -> contact\n",
    "-  2 -> semi "
   ]
  },
  {
   "cell_type": "code",
   "execution_count": 20,
   "metadata": {},
   "outputs": [],
   "source": [
    "def f(x):\n",
    "    if x == 0:\n",
    "        x='D'\n",
    "    elif x == 1:\n",
    "        x='C'\n",
    "    else:\n",
    "        x='SD'\n",
    "    return x\n",
    "    \n",
    "    \n",
    "df2a['jeras_class'] = df2a['jeras_class'].apply(f)"
   ]
  },
  {
   "cell_type": "code",
   "execution_count": 21,
   "metadata": {},
   "outputs": [
    {
     "data": {
      "text/html": [
       "<div>\n",
       "<style scoped>\n",
       "    .dataframe tbody tr th:only-of-type {\n",
       "        vertical-align: middle;\n",
       "    }\n",
       "\n",
       "    .dataframe tbody tr th {\n",
       "        vertical-align: top;\n",
       "    }\n",
       "\n",
       "    .dataframe thead th {\n",
       "        text-align: right;\n",
       "    }\n",
       "</style>\n",
       "<table border=\"1\" class=\"dataframe\">\n",
       "  <thead>\n",
       "    <tr style=\"text-align: right;\">\n",
       "      <th></th>\n",
       "      <th>id_vvv</th>\n",
       "      <th>ra(J2000)</th>\n",
       "      <th>dec(J2000)</th>\n",
       "      <th>ksEMeanMagPawprint</th>\n",
       "      <th>PeriodLS</th>\n",
       "      <th>jeras_class</th>\n",
       "    </tr>\n",
       "  </thead>\n",
       "  <tbody>\n",
       "    <tr>\n",
       "      <th>0</th>\n",
       "      <td>5.158818e+11</td>\n",
       "      <td>178.26020</td>\n",
       "      <td>-62.108135</td>\n",
       "      <td>16.703827</td>\n",
       "      <td>0.970470</td>\n",
       "      <td>D</td>\n",
       "    </tr>\n",
       "    <tr>\n",
       "      <th>1</th>\n",
       "      <td>5.158818e+11</td>\n",
       "      <td>178.36063</td>\n",
       "      <td>-61.914257</td>\n",
       "      <td>13.738820</td>\n",
       "      <td>0.256959</td>\n",
       "      <td>SD</td>\n",
       "    </tr>\n",
       "  </tbody>\n",
       "</table>\n",
       "</div>"
      ],
      "text/plain": [
       "         id_vvv  ra(J2000)  dec(J2000)  ksEMeanMagPawprint  PeriodLS  \\\n",
       "0  5.158818e+11  178.26020  -62.108135           16.703827  0.970470   \n",
       "1  5.158818e+11  178.36063  -61.914257           13.738820  0.256959   \n",
       "\n",
       "  jeras_class  \n",
       "0           D  \n",
       "1          SD  "
      ]
     },
     "execution_count": 21,
     "metadata": {},
     "output_type": "execute_result"
    }
   ],
   "source": [
    "df2a.head(2)"
   ]
  },
  {
   "cell_type": "code",
   "execution_count": 22,
   "metadata": {},
   "outputs": [
    {
     "data": {
      "text/plain": [
       "(728, 6)"
      ]
     },
     "execution_count": 22,
     "metadata": {},
     "output_type": "execute_result"
    }
   ],
   "source": [
    "df2a.shape"
   ]
  },
  {
   "cell_type": "code",
   "execution_count": 23,
   "metadata": {},
   "outputs": [
    {
     "data": {
      "text/plain": [
       "C     408\n",
       "D     244\n",
       "SD     76\n",
       "Name: jeras_class, dtype: int64"
      ]
     },
     "execution_count": 23,
     "metadata": {},
     "output_type": "execute_result"
    }
   ],
   "source": [
    "df2a['jeras_class'].value_counts()"
   ]
  },
  {
   "cell_type": "code",
   "execution_count": 24,
   "metadata": {},
   "outputs": [],
   "source": [
    "df2a.astype(str).to_csv('outputs/outputPaso3_jerar134.csv', header=True, index=False)"
   ]
  },
  {
   "cell_type": "code",
   "execution_count": null,
   "metadata": {},
   "outputs": [],
   "source": []
  }
 ],
 "metadata": {
  "kernelspec": {
   "display_name": "Python 3",
   "language": "python",
   "name": "python3"
  },
  "language_info": {
   "codemirror_mode": {
    "name": "ipython",
    "version": 3
   },
   "file_extension": ".py",
   "mimetype": "text/x-python",
   "name": "python",
   "nbconvert_exporter": "python",
   "pygments_lexer": "ipython3",
   "version": "3.8.2"
  }
 },
 "nbformat": 4,
 "nbformat_minor": 4
}

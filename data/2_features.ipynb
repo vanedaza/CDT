{
 "cells": [
  {
   "cell_type": "markdown",
   "metadata": {},
   "source": [
    "In this notebook for each eclipsing binary system we extract the features with feets and join them with the periods. We add a new feature, the difference of the minima, and also perform a new curation, pre-process the data, and prepare the data for input to the classification model."
   ]
  },
  {
   "cell_type": "markdown",
   "metadata": {},
   "source": [
    "# FEATURES"
   ]
  },
  {
   "cell_type": "markdown",
   "metadata": {},
   "source": [
    "Note: feets fails with data less than 20."
   ]
  },
  {
   "cell_type": "code",
   "execution_count": 1,
   "metadata": {},
   "outputs": [],
   "source": [
    "import numpy as np\n",
    "import feets \n",
    "import pandas as pd\n",
    "from scipy import stats\n",
    "from os import listdir\n",
    "import warnings\n",
    "warnings.filterwarnings(\"ignore\")\n",
    "\n",
    "%matplotlib inline"
   ]
  },
  {
   "cell_type": "markdown",
   "metadata": {},
   "source": [
    "# Extration-Features feets"
   ]
  },
  {
   "cell_type": "code",
   "execution_count": 2,
   "metadata": {},
   "outputs": [],
   "source": [
    "fuentes = listdir('TimeSeries_vivace/')\n",
    "matriz = []\n",
    "mat = []"
   ]
  },
  {
   "cell_type": "code",
   "execution_count": 3,
   "metadata": {},
   "outputs": [],
   "source": [
    "for i in fuentes:\n",
    "    ruta = 'TimeSeries_vivace/' + i\n",
    "    \n",
    "    data = np.genfromtxt(ruta)\n",
    "    if (data.shape[0] >=20):\n",
    "        time = data[:,0]\n",
    "        Ks = data[:,1]\n",
    "        eKs = data[:,2]\n",
    "\n",
    "        lc = [time, Ks, eKs]\n",
    "        #print(ruta)\n",
    "        fs = feets.FeatureSpace(data=['magnitude','error','time'])\n",
    "        features, values = fs.extract(*lc)\n",
    "\n",
    "        id_vvv = np.array([float(i)])\n",
    "        features_values = np.concatenate((id_vvv, values))\n",
    "\n",
    "        id_vvv_name = np.array([i])\n",
    "        features_name = np.concatenate((id_vvv_name, features))\n",
    "\n",
    "        mat.append(features_values)\n"
   ]
  },
  {
   "cell_type": "markdown",
   "metadata": {},
   "source": [
    "# Data Frame"
   ]
  },
  {
   "cell_type": "code",
   "execution_count": 16,
   "metadata": {},
   "outputs": [],
   "source": [
    "df1 = pd.DataFrame(mat, columns=features_name)\n",
    "df1 = df1.rename(columns={'515882025121':'id_vvv'}).copy()"
   ]
  },
  {
   "cell_type": "code",
   "execution_count": 17,
   "metadata": {},
   "outputs": [
    {
     "data": {
      "text/html": [
       "<div>\n",
       "<style scoped>\n",
       "    .dataframe tbody tr th:only-of-type {\n",
       "        vertical-align: middle;\n",
       "    }\n",
       "\n",
       "    .dataframe tbody tr th {\n",
       "        vertical-align: top;\n",
       "    }\n",
       "\n",
       "    .dataframe thead th {\n",
       "        text-align: right;\n",
       "    }\n",
       "</style>\n",
       "<table border=\"1\" class=\"dataframe\">\n",
       "  <thead>\n",
       "    <tr style=\"text-align: right;\">\n",
       "      <th></th>\n",
       "      <th>id_vvv</th>\n",
       "      <th>Amplitude</th>\n",
       "      <th>AndersonDarling</th>\n",
       "      <th>Autocor_length</th>\n",
       "      <th>Beyond1Std</th>\n",
       "      <th>CAR_mean</th>\n",
       "      <th>CAR_sigma</th>\n",
       "      <th>CAR_tau</th>\n",
       "      <th>Con</th>\n",
       "      <th>Eta_e</th>\n",
       "      <th>...</th>\n",
       "      <th>Rcs</th>\n",
       "      <th>Skew</th>\n",
       "      <th>SlottedA_length</th>\n",
       "      <th>SmallKurtosis</th>\n",
       "      <th>Std</th>\n",
       "      <th>StetsonK</th>\n",
       "      <th>StetsonK_AC</th>\n",
       "      <th>StructureFunction_index_21</th>\n",
       "      <th>StructureFunction_index_31</th>\n",
       "      <th>StructureFunction_index_32</th>\n",
       "    </tr>\n",
       "  </thead>\n",
       "  <tbody>\n",
       "    <tr>\n",
       "      <th>0</th>\n",
       "      <td>5.158828e+11</td>\n",
       "      <td>0.146903</td>\n",
       "      <td>1.0</td>\n",
       "      <td>1.0</td>\n",
       "      <td>0.25</td>\n",
       "      <td>29.341143</td>\n",
       "      <td>10.0</td>\n",
       "      <td>0.5</td>\n",
       "      <td>0.0</td>\n",
       "      <td>NaN</td>\n",
       "      <td>...</td>\n",
       "      <td>0.103894</td>\n",
       "      <td>0.885269</td>\n",
       "      <td>1.0</td>\n",
       "      <td>0.303034</td>\n",
       "      <td>0.074933</td>\n",
       "      <td>0.804019</td>\n",
       "      <td>0.730023</td>\n",
       "      <td>1.741213</td>\n",
       "      <td>2.369615</td>\n",
       "      <td>1.408185</td>\n",
       "    </tr>\n",
       "  </tbody>\n",
       "</table>\n",
       "<p>1 rows × 64 columns</p>\n",
       "</div>"
      ],
      "text/plain": [
       "         id_vvv  Amplitude  AndersonDarling  Autocor_length  Beyond1Std  \\\n",
       "0  5.158828e+11   0.146903              1.0             1.0        0.25   \n",
       "\n",
       "    CAR_mean  CAR_sigma  CAR_tau  Con  Eta_e  ...       Rcs      Skew  \\\n",
       "0  29.341143       10.0      0.5  0.0    NaN  ...  0.103894  0.885269   \n",
       "\n",
       "   SlottedA_length  SmallKurtosis       Std  StetsonK  StetsonK_AC  \\\n",
       "0              1.0       0.303034  0.074933  0.804019     0.730023   \n",
       "\n",
       "   StructureFunction_index_21  StructureFunction_index_31  \\\n",
       "0                    1.741213                    2.369615   \n",
       "\n",
       "   StructureFunction_index_32  \n",
       "0                    1.408185  \n",
       "\n",
       "[1 rows x 64 columns]"
      ]
     },
     "metadata": {},
     "output_type": "display_data"
    },
    {
     "data": {
      "text/plain": [
       "(728, 64)"
      ]
     },
     "execution_count": 17,
     "metadata": {},
     "output_type": "execute_result"
    }
   ],
   "source": [
    "display(df1.head(1))\n",
    "df1.shape"
   ]
  },
  {
   "cell_type": "code",
   "execution_count": 18,
   "metadata": {},
   "outputs": [],
   "source": [
    "df1.to_csv('outputs/feets_output.csv', index=False)"
   ]
  },
  {
   "cell_type": "markdown",
   "metadata": {},
   "source": [
    "**Levanto la salida de feets**"
   ]
  },
  {
   "cell_type": "code",
   "execution_count": 19,
   "metadata": {},
   "outputs": [],
   "source": [
    "df1 = pd.read_csv('outputs/feets_output.csv')"
   ]
  },
  {
   "cell_type": "code",
   "execution_count": 20,
   "metadata": {},
   "outputs": [
    {
     "data": {
      "text/html": [
       "<div>\n",
       "<style scoped>\n",
       "    .dataframe tbody tr th:only-of-type {\n",
       "        vertical-align: middle;\n",
       "    }\n",
       "\n",
       "    .dataframe tbody tr th {\n",
       "        vertical-align: top;\n",
       "    }\n",
       "\n",
       "    .dataframe thead th {\n",
       "        text-align: right;\n",
       "    }\n",
       "</style>\n",
       "<table border=\"1\" class=\"dataframe\">\n",
       "  <thead>\n",
       "    <tr style=\"text-align: right;\">\n",
       "      <th></th>\n",
       "      <th>id_vvv</th>\n",
       "      <th>Amplitude</th>\n",
       "      <th>AndersonDarling</th>\n",
       "      <th>Autocor_length</th>\n",
       "      <th>Beyond1Std</th>\n",
       "      <th>CAR_mean</th>\n",
       "      <th>CAR_sigma</th>\n",
       "      <th>CAR_tau</th>\n",
       "      <th>Con</th>\n",
       "      <th>Eta_e</th>\n",
       "      <th>...</th>\n",
       "      <th>Rcs</th>\n",
       "      <th>Skew</th>\n",
       "      <th>SlottedA_length</th>\n",
       "      <th>SmallKurtosis</th>\n",
       "      <th>Std</th>\n",
       "      <th>StetsonK</th>\n",
       "      <th>StetsonK_AC</th>\n",
       "      <th>StructureFunction_index_21</th>\n",
       "      <th>StructureFunction_index_31</th>\n",
       "      <th>StructureFunction_index_32</th>\n",
       "    </tr>\n",
       "  </thead>\n",
       "  <tbody>\n",
       "    <tr>\n",
       "      <th>0</th>\n",
       "      <td>5.158828e+11</td>\n",
       "      <td>0.146903</td>\n",
       "      <td>1.0</td>\n",
       "      <td>1.0</td>\n",
       "      <td>0.250000</td>\n",
       "      <td>29.341143</td>\n",
       "      <td>10.0</td>\n",
       "      <td>0.5</td>\n",
       "      <td>0.0</td>\n",
       "      <td>NaN</td>\n",
       "      <td>...</td>\n",
       "      <td>0.103894</td>\n",
       "      <td>0.885269</td>\n",
       "      <td>1.0</td>\n",
       "      <td>0.303034</td>\n",
       "      <td>0.074933</td>\n",
       "      <td>0.804019</td>\n",
       "      <td>0.730023</td>\n",
       "      <td>1.741213</td>\n",
       "      <td>2.369615</td>\n",
       "      <td>1.408185</td>\n",
       "    </tr>\n",
       "    <tr>\n",
       "      <th>1</th>\n",
       "      <td>5.158821e+11</td>\n",
       "      <td>0.196734</td>\n",
       "      <td>1.0</td>\n",
       "      <td>1.0</td>\n",
       "      <td>0.182927</td>\n",
       "      <td>28.686937</td>\n",
       "      <td>10.0</td>\n",
       "      <td>0.5</td>\n",
       "      <td>0.0</td>\n",
       "      <td>NaN</td>\n",
       "      <td>...</td>\n",
       "      <td>0.134247</td>\n",
       "      <td>2.010240</td>\n",
       "      <td>1.0</td>\n",
       "      <td>4.797852</td>\n",
       "      <td>0.097485</td>\n",
       "      <td>0.715358</td>\n",
       "      <td>0.784014</td>\n",
       "      <td>1.507400</td>\n",
       "      <td>1.989706</td>\n",
       "      <td>1.573024</td>\n",
       "    </tr>\n",
       "  </tbody>\n",
       "</table>\n",
       "<p>2 rows × 64 columns</p>\n",
       "</div>"
      ],
      "text/plain": [
       "         id_vvv  Amplitude  AndersonDarling  Autocor_length  Beyond1Std  \\\n",
       "0  5.158828e+11   0.146903              1.0             1.0    0.250000   \n",
       "1  5.158821e+11   0.196734              1.0             1.0    0.182927   \n",
       "\n",
       "    CAR_mean  CAR_sigma  CAR_tau  Con  Eta_e  ...       Rcs      Skew  \\\n",
       "0  29.341143       10.0      0.5  0.0    NaN  ...  0.103894  0.885269   \n",
       "1  28.686937       10.0      0.5  0.0    NaN  ...  0.134247  2.010240   \n",
       "\n",
       "   SlottedA_length  SmallKurtosis       Std  StetsonK  StetsonK_AC  \\\n",
       "0              1.0       0.303034  0.074933  0.804019     0.730023   \n",
       "1              1.0       4.797852  0.097485  0.715358     0.784014   \n",
       "\n",
       "   StructureFunction_index_21  StructureFunction_index_31  \\\n",
       "0                    1.741213                    2.369615   \n",
       "1                    1.507400                    1.989706   \n",
       "\n",
       "   StructureFunction_index_32  \n",
       "0                    1.408185  \n",
       "1                    1.573024  \n",
       "\n",
       "[2 rows x 64 columns]"
      ]
     },
     "metadata": {},
     "output_type": "display_data"
    },
    {
     "data": {
      "text/plain": [
       "(728, 64)"
      ]
     },
     "execution_count": 20,
     "metadata": {},
     "output_type": "execute_result"
    }
   ],
   "source": [
    "display(df1.head(2))\n",
    "df1.shape"
   ]
  },
  {
   "cell_type": "code",
   "execution_count": 21,
   "metadata": {},
   "outputs": [
    {
     "data": {
      "text/plain": [
       "id_vvv                        5.158828e+11\n",
       "Amplitude                     1.469026e-01\n",
       "AndersonDarling               1.000000e+00\n",
       "Autocor_length                1.000000e+00\n",
       "Beyond1Std                    2.500000e-01\n",
       "                                  ...     \n",
       "StetsonK                      8.040189e-01\n",
       "StetsonK_AC                   7.300228e-01\n",
       "StructureFunction_index_21    1.741213e+00\n",
       "StructureFunction_index_31    2.369615e+00\n",
       "StructureFunction_index_32    1.408185e+00\n",
       "Name: 0, Length: 64, dtype: float64"
      ]
     },
     "execution_count": 21,
     "metadata": {},
     "output_type": "execute_result"
    }
   ],
   "source": [
    "df1.iloc[0]"
   ]
  },
  {
   "cell_type": "markdown",
   "metadata": {},
   "source": [
    "**Filas Duplicadas**"
   ]
  },
  {
   "cell_type": "code",
   "execution_count": 22,
   "metadata": {},
   "outputs": [
    {
     "name": "stdout",
     "output_type": "stream",
     "text": [
      "cantidad de fuentes duplicadas 0\n"
     ]
    }
   ],
   "source": [
    "df1.set_index(\"id_vvv\", inplace=True)\n",
    "df1[df1.astype(str).duplicated()].shape\n",
    "print('cantidad de fuentes duplicadas', df1[df1.index.astype(str).duplicated()].shape[0])"
   ]
  },
  {
   "cell_type": "code",
   "execution_count": 23,
   "metadata": {},
   "outputs": [
    {
     "data": {
      "text/plain": [
       "'fuentes duplicadas'"
      ]
     },
     "metadata": {},
     "output_type": "display_data"
    },
    {
     "data": {
      "text/plain": [
       "Float64Index([], dtype='float64', name='id_vvv')"
      ]
     },
     "metadata": {},
     "output_type": "display_data"
    }
   ],
   "source": [
    "display('fuentes duplicadas', df1[df1.index.astype(str).duplicated()].index)"
   ]
  },
  {
   "cell_type": "code",
   "execution_count": 24,
   "metadata": {},
   "outputs": [],
   "source": [
    "df_cl = df1.loc[~(df1.index.astype(str).duplicated(keep=\"first\"))].copy()"
   ]
  },
  {
   "cell_type": "code",
   "execution_count": 25,
   "metadata": {},
   "outputs": [
    {
     "data": {
      "text/plain": [
       "515882777684.0"
      ]
     },
     "execution_count": 25,
     "metadata": {},
     "output_type": "execute_result"
    }
   ],
   "source": [
    "df_cl.index[0]"
   ]
  },
  {
   "cell_type": "code",
   "execution_count": 26,
   "metadata": {},
   "outputs": [],
   "source": [
    "df_cl = df_cl.reset_index()"
   ]
  },
  {
   "cell_type": "code",
   "execution_count": 27,
   "metadata": {},
   "outputs": [
    {
     "data": {
      "text/html": [
       "<div>\n",
       "<style scoped>\n",
       "    .dataframe tbody tr th:only-of-type {\n",
       "        vertical-align: middle;\n",
       "    }\n",
       "\n",
       "    .dataframe tbody tr th {\n",
       "        vertical-align: top;\n",
       "    }\n",
       "\n",
       "    .dataframe thead th {\n",
       "        text-align: right;\n",
       "    }\n",
       "</style>\n",
       "<table border=\"1\" class=\"dataframe\">\n",
       "  <thead>\n",
       "    <tr style=\"text-align: right;\">\n",
       "      <th></th>\n",
       "      <th>id_vvv</th>\n",
       "      <th>Amplitude</th>\n",
       "      <th>AndersonDarling</th>\n",
       "      <th>Autocor_length</th>\n",
       "      <th>Beyond1Std</th>\n",
       "      <th>CAR_mean</th>\n",
       "      <th>CAR_sigma</th>\n",
       "      <th>CAR_tau</th>\n",
       "      <th>Con</th>\n",
       "      <th>Eta_e</th>\n",
       "      <th>...</th>\n",
       "      <th>Rcs</th>\n",
       "      <th>Skew</th>\n",
       "      <th>SlottedA_length</th>\n",
       "      <th>SmallKurtosis</th>\n",
       "      <th>Std</th>\n",
       "      <th>StetsonK</th>\n",
       "      <th>StetsonK_AC</th>\n",
       "      <th>StructureFunction_index_21</th>\n",
       "      <th>StructureFunction_index_31</th>\n",
       "      <th>StructureFunction_index_32</th>\n",
       "    </tr>\n",
       "  </thead>\n",
       "  <tbody>\n",
       "    <tr>\n",
       "      <th>215</th>\n",
       "      <td>5.158818e+11</td>\n",
       "      <td>0.375037</td>\n",
       "      <td>0.982969</td>\n",
       "      <td>1.0</td>\n",
       "      <td>0.266667</td>\n",
       "      <td>33.405273</td>\n",
       "      <td>10.0</td>\n",
       "      <td>0.5</td>\n",
       "      <td>0.0</td>\n",
       "      <td>1.206468e+06</td>\n",
       "      <td>...</td>\n",
       "      <td>0.148049</td>\n",
       "      <td>0.439180</td>\n",
       "      <td>1.0</td>\n",
       "      <td>-0.262852</td>\n",
       "      <td>0.219407</td>\n",
       "      <td>0.799939</td>\n",
       "      <td>0.667972</td>\n",
       "      <td>1.453847</td>\n",
       "      <td>1.733139</td>\n",
       "      <td>1.273550</td>\n",
       "    </tr>\n",
       "    <tr>\n",
       "      <th>160</th>\n",
       "      <td>5.158818e+11</td>\n",
       "      <td>0.173605</td>\n",
       "      <td>1.000000</td>\n",
       "      <td>1.0</td>\n",
       "      <td>0.217391</td>\n",
       "      <td>27.477640</td>\n",
       "      <td>10.0</td>\n",
       "      <td>0.5</td>\n",
       "      <td>0.0</td>\n",
       "      <td>NaN</td>\n",
       "      <td>...</td>\n",
       "      <td>0.107519</td>\n",
       "      <td>1.299428</td>\n",
       "      <td>1.0</td>\n",
       "      <td>1.406770</td>\n",
       "      <td>0.086935</td>\n",
       "      <td>0.743439</td>\n",
       "      <td>0.682698</td>\n",
       "      <td>1.413160</td>\n",
       "      <td>1.649070</td>\n",
       "      <td>1.210574</td>\n",
       "    </tr>\n",
       "  </tbody>\n",
       "</table>\n",
       "<p>2 rows × 64 columns</p>\n",
       "</div>"
      ],
      "text/plain": [
       "           id_vvv  Amplitude  AndersonDarling  Autocor_length  Beyond1Std  \\\n",
       "215  5.158818e+11   0.375037         0.982969             1.0    0.266667   \n",
       "160  5.158818e+11   0.173605         1.000000             1.0    0.217391   \n",
       "\n",
       "      CAR_mean  CAR_sigma  CAR_tau  Con         Eta_e  ...       Rcs  \\\n",
       "215  33.405273       10.0      0.5  0.0  1.206468e+06  ...  0.148049   \n",
       "160  27.477640       10.0      0.5  0.0           NaN  ...  0.107519   \n",
       "\n",
       "         Skew  SlottedA_length  SmallKurtosis       Std  StetsonK  \\\n",
       "215  0.439180              1.0      -0.262852  0.219407  0.799939   \n",
       "160  1.299428              1.0       1.406770  0.086935  0.743439   \n",
       "\n",
       "     StetsonK_AC  StructureFunction_index_21  StructureFunction_index_31  \\\n",
       "215     0.667972                    1.453847                    1.733139   \n",
       "160     0.682698                    1.413160                    1.649070   \n",
       "\n",
       "     StructureFunction_index_32  \n",
       "215                    1.273550  \n",
       "160                    1.210574  \n",
       "\n",
       "[2 rows x 64 columns]"
      ]
     },
     "metadata": {},
     "output_type": "display_data"
    },
    {
     "data": {
      "text/plain": [
       "(728, 64)"
      ]
     },
     "execution_count": 27,
     "metadata": {},
     "output_type": "execute_result"
    }
   ],
   "source": [
    "df_cl1 = df_cl.sort_values('id_vvv').copy()\n",
    "display(df_cl1.head(2))\n",
    "df_cl1.shape"
   ]
  },
  {
   "cell_type": "code",
   "execution_count": 28,
   "metadata": {},
   "outputs": [
    {
     "data": {
      "text/plain": [
       "id_vvv                        5.158818e+11\n",
       "Amplitude                     3.750372e-01\n",
       "AndersonDarling               9.829693e-01\n",
       "Autocor_length                1.000000e+00\n",
       "Beyond1Std                    2.666667e-01\n",
       "                                  ...     \n",
       "StetsonK                      7.999392e-01\n",
       "StetsonK_AC                   6.679719e-01\n",
       "StructureFunction_index_21    1.453847e+00\n",
       "StructureFunction_index_31    1.733139e+00\n",
       "StructureFunction_index_32    1.273550e+00\n",
       "Name: 215, Length: 64, dtype: float64"
      ]
     },
     "execution_count": 28,
     "metadata": {},
     "output_type": "execute_result"
    }
   ],
   "source": [
    "df_cl1.iloc[0]"
   ]
  },
  {
   "cell_type": "code",
   "execution_count": 29,
   "metadata": {},
   "outputs": [
    {
     "data": {
      "text/plain": [
       "Series([], Name: Amplitude, dtype: float64)"
      ]
     },
     "execution_count": 29,
     "metadata": {},
     "output_type": "execute_result"
    }
   ],
   "source": [
    "df_cl1[df_cl1['id_vvv'] == 515881819260.0].Amplitude"
   ]
  },
  {
   "cell_type": "markdown",
   "metadata": {},
   "source": [
    "**Load EBS information**"
   ]
  },
  {
   "cell_type": "code",
   "execution_count": 30,
   "metadata": {},
   "outputs": [
    {
     "data": {
      "text/html": [
       "<div>\n",
       "<style scoped>\n",
       "    .dataframe tbody tr th:only-of-type {\n",
       "        vertical-align: middle;\n",
       "    }\n",
       "\n",
       "    .dataframe tbody tr th {\n",
       "        vertical-align: top;\n",
       "    }\n",
       "\n",
       "    .dataframe thead th {\n",
       "        text-align: right;\n",
       "    }\n",
       "</style>\n",
       "<table border=\"1\" class=\"dataframe\">\n",
       "  <thead>\n",
       "    <tr style=\"text-align: right;\">\n",
       "      <th></th>\n",
       "      <th>VIVAID</th>\n",
       "      <th>ra(J2000)</th>\n",
       "      <th>dec(J2000)</th>\n",
       "      <th>ksEMeanMagPawprint</th>\n",
       "      <th>Period_KFI</th>\n",
       "      <th>Period_PAN</th>\n",
       "      <th>Period_LSG</th>\n",
       "      <th>Period_PDM</th>\n",
       "      <th>Period_STR</th>\n",
       "    </tr>\n",
       "  </thead>\n",
       "  <tbody>\n",
       "    <tr>\n",
       "      <th>0</th>\n",
       "      <td>5.158818e+11</td>\n",
       "      <td>178.744776</td>\n",
       "      <td>-61.074091</td>\n",
       "      <td>16.836236</td>\n",
       "      <td>0.037107</td>\n",
       "      <td>0.059735</td>\n",
       "      <td>0.463907</td>\n",
       "      <td>0.463888</td>\n",
       "      <td>355.38876</td>\n",
       "    </tr>\n",
       "    <tr>\n",
       "      <th>1</th>\n",
       "      <td>5.158818e+11</td>\n",
       "      <td>178.334446</td>\n",
       "      <td>-61.937927</td>\n",
       "      <td>15.853327</td>\n",
       "      <td>0.044667</td>\n",
       "      <td>0.058330</td>\n",
       "      <td>0.082251</td>\n",
       "      <td>0.082251</td>\n",
       "      <td>0.05833</td>\n",
       "    </tr>\n",
       "  </tbody>\n",
       "</table>\n",
       "</div>"
      ],
      "text/plain": [
       "         VIVAID   ra(J2000)  dec(J2000)  ksEMeanMagPawprint  Period_KFI  \\\n",
       "0  5.158818e+11  178.744776  -61.074091           16.836236    0.037107   \n",
       "1  5.158818e+11  178.334446  -61.937927           15.853327    0.044667   \n",
       "\n",
       "   Period_PAN  Period_LSG  Period_PDM  Period_STR  \n",
       "0    0.059735    0.463907    0.463888   355.38876  \n",
       "1    0.058330    0.082251    0.082251     0.05833  "
      ]
     },
     "metadata": {},
     "output_type": "display_data"
    },
    {
     "data": {
      "text/plain": [
       "(41508, 9)"
      ]
     },
     "execution_count": 30,
     "metadata": {},
     "output_type": "execute_result"
    }
   ],
   "source": [
    "df2 = pd.read_csv('outputs/outputPaso1_fuentes.csv')\n",
    "df2 = df2.sort_values('VIVAID')\n",
    "display(df2.head(2))\n",
    "df2.shape"
   ]
  },
  {
   "cell_type": "code",
   "execution_count": 31,
   "metadata": {},
   "outputs": [
    {
     "data": {
      "text/plain": [
       "0    0.059735\n",
       "Name: Period_PAN, dtype: float64"
      ]
     },
     "execution_count": 31,
     "metadata": {},
     "output_type": "execute_result"
    }
   ],
   "source": [
    "df2[df2['VIVAID']==515881819260.0].Period_PAN"
   ]
  },
  {
   "cell_type": "markdown",
   "metadata": {},
   "source": [
    "# Join Features más Features_feets"
   ]
  },
  {
   "cell_type": "code",
   "execution_count": 32,
   "metadata": {},
   "outputs": [],
   "source": [
    "Features_total = df_cl1.set_index('id_vvv').join(df2.set_index('VIVAID'))"
   ]
  },
  {
   "cell_type": "code",
   "execution_count": 33,
   "metadata": {},
   "outputs": [
    {
     "data": {
      "text/plain": [
       "728"
      ]
     },
     "execution_count": 33,
     "metadata": {},
     "output_type": "execute_result"
    }
   ],
   "source": [
    "Features_total = Features_total.reset_index()\n",
    "Features_total.shape[0]"
   ]
  },
  {
   "cell_type": "code",
   "execution_count": 34,
   "metadata": {},
   "outputs": [
    {
     "data": {
      "text/html": [
       "<div>\n",
       "<style scoped>\n",
       "    .dataframe tbody tr th:only-of-type {\n",
       "        vertical-align: middle;\n",
       "    }\n",
       "\n",
       "    .dataframe tbody tr th {\n",
       "        vertical-align: top;\n",
       "    }\n",
       "\n",
       "    .dataframe thead th {\n",
       "        text-align: right;\n",
       "    }\n",
       "</style>\n",
       "<table border=\"1\" class=\"dataframe\">\n",
       "  <thead>\n",
       "    <tr style=\"text-align: right;\">\n",
       "      <th></th>\n",
       "      <th>id_vvv</th>\n",
       "      <th>Amplitude</th>\n",
       "      <th>AndersonDarling</th>\n",
       "      <th>Autocor_length</th>\n",
       "      <th>Beyond1Std</th>\n",
       "      <th>CAR_mean</th>\n",
       "      <th>CAR_sigma</th>\n",
       "      <th>CAR_tau</th>\n",
       "      <th>Con</th>\n",
       "      <th>Eta_e</th>\n",
       "      <th>...</th>\n",
       "      <th>StructureFunction_index_31</th>\n",
       "      <th>StructureFunction_index_32</th>\n",
       "      <th>ra(J2000)</th>\n",
       "      <th>dec(J2000)</th>\n",
       "      <th>ksEMeanMagPawprint</th>\n",
       "      <th>Period_KFI</th>\n",
       "      <th>Period_PAN</th>\n",
       "      <th>Period_LSG</th>\n",
       "      <th>Period_PDM</th>\n",
       "      <th>Period_STR</th>\n",
       "    </tr>\n",
       "  </thead>\n",
       "  <tbody>\n",
       "    <tr>\n",
       "      <th>0</th>\n",
       "      <td>5.158818e+11</td>\n",
       "      <td>0.375037</td>\n",
       "      <td>0.982969</td>\n",
       "      <td>1.0</td>\n",
       "      <td>0.266667</td>\n",
       "      <td>33.405273</td>\n",
       "      <td>10.0</td>\n",
       "      <td>0.5</td>\n",
       "      <td>0.0</td>\n",
       "      <td>1.206468e+06</td>\n",
       "      <td>...</td>\n",
       "      <td>1.733139</td>\n",
       "      <td>1.273550</td>\n",
       "      <td>178.260191</td>\n",
       "      <td>-62.108137</td>\n",
       "      <td>16.703827</td>\n",
       "      <td>0.057703</td>\n",
       "      <td>0.058487</td>\n",
       "      <td>0.158880</td>\n",
       "      <td>0.158877</td>\n",
       "      <td>0.158882</td>\n",
       "    </tr>\n",
       "    <tr>\n",
       "      <th>1</th>\n",
       "      <td>5.158818e+11</td>\n",
       "      <td>0.173605</td>\n",
       "      <td>1.000000</td>\n",
       "      <td>1.0</td>\n",
       "      <td>0.217391</td>\n",
       "      <td>27.477640</td>\n",
       "      <td>10.0</td>\n",
       "      <td>0.5</td>\n",
       "      <td>0.0</td>\n",
       "      <td>NaN</td>\n",
       "      <td>...</td>\n",
       "      <td>1.649070</td>\n",
       "      <td>1.210574</td>\n",
       "      <td>178.360623</td>\n",
       "      <td>-61.914256</td>\n",
       "      <td>13.738820</td>\n",
       "      <td>0.345819</td>\n",
       "      <td>0.345819</td>\n",
       "      <td>0.345819</td>\n",
       "      <td>0.256950</td>\n",
       "      <td>0.345819</td>\n",
       "    </tr>\n",
       "  </tbody>\n",
       "</table>\n",
       "<p>2 rows × 72 columns</p>\n",
       "</div>"
      ],
      "text/plain": [
       "         id_vvv  Amplitude  AndersonDarling  Autocor_length  Beyond1Std  \\\n",
       "0  5.158818e+11   0.375037         0.982969             1.0    0.266667   \n",
       "1  5.158818e+11   0.173605         1.000000             1.0    0.217391   \n",
       "\n",
       "    CAR_mean  CAR_sigma  CAR_tau  Con         Eta_e  ...  \\\n",
       "0  33.405273       10.0      0.5  0.0  1.206468e+06  ...   \n",
       "1  27.477640       10.0      0.5  0.0           NaN  ...   \n",
       "\n",
       "   StructureFunction_index_31  StructureFunction_index_32   ra(J2000)  \\\n",
       "0                    1.733139                    1.273550  178.260191   \n",
       "1                    1.649070                    1.210574  178.360623   \n",
       "\n",
       "   dec(J2000)  ksEMeanMagPawprint  Period_KFI  Period_PAN  Period_LSG  \\\n",
       "0  -62.108137           16.703827    0.057703    0.058487    0.158880   \n",
       "1  -61.914256           13.738820    0.345819    0.345819    0.345819   \n",
       "\n",
       "   Period_PDM  Period_STR  \n",
       "0    0.158877    0.158882  \n",
       "1    0.256950    0.345819  \n",
       "\n",
       "[2 rows x 72 columns]"
      ]
     },
     "execution_count": 34,
     "metadata": {},
     "output_type": "execute_result"
    }
   ],
   "source": [
    "Features_total.head(2)"
   ]
  },
  {
   "cell_type": "markdown",
   "metadata": {},
   "source": [
    "**Observo para una fuente si los datos de los dos dataframe son concordates**"
   ]
  },
  {
   "cell_type": "code",
   "execution_count": 35,
   "metadata": {},
   "outputs": [
    {
     "name": "stdout",
     "output_type": "stream",
     "text": [
      "fuente 515881822600.0\n"
     ]
    },
    {
     "data": {
      "text/plain": [
       "0.3750371933000007"
      ]
     },
     "metadata": {},
     "output_type": "display_data"
    },
    {
     "data": {
      "text/plain": [
       "0.0584867179582004"
      ]
     },
     "execution_count": 35,
     "metadata": {},
     "output_type": "execute_result"
    }
   ],
   "source": [
    "print('fuente', Features_total.id_vvv.iloc[0])\n",
    "display(Features_total.iloc[0].Amplitude)\n",
    "Features_total.iloc[0].Period_PAN"
   ]
  },
  {
   "cell_type": "markdown",
   "metadata": {},
   "source": [
    "**Agrego nuevo feature**"
   ]
  },
  {
   "cell_type": "code",
   "execution_count": 36,
   "metadata": {},
   "outputs": [],
   "source": [
    "def fase(path_fuente, T):\n",
    "    '''Función dedicada a calcular la fase a partir \n",
    "    de los días julianos y un periodo particular\n",
    "    \n",
    "    INPUT: path del dataset:[días Julianos, magnitud, err] \n",
    "    OUTPUT: fase, magnitud aparente, error.\n",
    "    '''\n",
    "\n",
    "    d = np.genfromtxt(path_fuente)\n",
    "    \n",
    "    t0 = d[:, 0].min()\n",
    "    pha = []\n",
    "    mag = []\n",
    "    err = []\n",
    "    \n",
    "    for t in range(d.shape[0]):\n",
    "        numerador = abs(t0 - d[t, 0])\n",
    "        cociente = numerador/T\n",
    "        parte_entera_cociente = int(cociente)\n",
    "        ph = cociente-parte_entera_cociente\n",
    "        pha.append(ph)\n",
    "        mag.append(d[t, 1])\n",
    "        err.append(d[t, 2])\n",
    "\n",
    "    return(pha, mag, err) "
   ]
  },
  {
   "cell_type": "code",
   "execution_count": 39,
   "metadata": {},
   "outputs": [],
   "source": [
    "from sklearn import preprocessing\n",
    "min_max_scaler = preprocessing.MinMaxScaler()\n",
    "\n",
    "dmin = [ ]\n",
    "\n",
    "for i in range(Features_total.shape[0]):\n",
    "    # Cargo la curva de luz\n",
    "    ruta = 'TimeSeries_vivace/' + str(int(Features_total.id_vvv[i]))\n",
    "    P = Features_total.Period_PDM[i]*2\n",
    "    d3 = fase(ruta, P)\n",
    "    d31 = list(map(lambda x : x + 1, d3[0]))\n",
    "    f = np.array(d3[0])\n",
    "    y = np.array(d3[1])\n",
    "    e = np.array(d3[2])\n",
    "        \n",
    "    # orden por fase a través de df\n",
    "    m = np.zeros((len(d3[0]), len(d3)))\n",
    "    m[:,0] = f\n",
    "    m[:,1] = y\n",
    "    m[:,2] = e\n",
    "    df1 = pd.DataFrame(m, columns=['fase', 'mag', 'e_mag'])\n",
    "    df1 = df1.sort_values('fase')\n",
    "    x = df1.fase.values\n",
    "    y = df1.mag.values\n",
    "    e = df1.e_mag.values\n",
    "\n",
    "    # escalado de la curva de luz a [0, 1]\n",
    "    y_minmax =  min_max_scaler.fit_transform(y.reshape(-1, 1))\n",
    "    \n",
    "    # localización del máximo antes del primer mínimo\n",
    "    index1 = np.where(y_minmax[0:int(len(y)/2)] == np.max(y_minmax[0:int(len(y)/2)]))\n",
    "    # localización del máximo después del primer mínimo\n",
    "    index2 = np.where(y_minmax[int(len(y)/2):] == np.max(y_minmax[int(len(y)/2):]))\n",
    "    delta_min = abs(y_minmax[index1[0][0]] - y_minmax[int(len(y)/2)+index2[0][0]])\n",
    "    dmin.append(delta_min[0])"
   ]
  },
  {
   "cell_type": "code",
   "execution_count": 40,
   "metadata": {},
   "outputs": [],
   "source": [
    "Features_total['dmin'] = dmin"
   ]
  },
  {
   "cell_type": "markdown",
   "metadata": {},
   "source": [
    "**Cambio de dtype a float32**"
   ]
  },
  {
   "cell_type": "code",
   "execution_count": 41,
   "metadata": {},
   "outputs": [],
   "source": [
    "Features_total_32 = pd.DataFrame(Features_total.astype(np.float32).values, \n",
    "                                 columns=Features_total.columns)\n",
    "Features_total_32['id_vvv'] = Features_total.id_vvv.values"
   ]
  },
  {
   "cell_type": "markdown",
   "metadata": {},
   "source": [
    "**Datos para imprimir:**"
   ]
  },
  {
   "cell_type": "code",
   "execution_count": 42,
   "metadata": {},
   "outputs": [
    {
     "data": {
      "text/plain": [
       "(728, 4)"
      ]
     },
     "metadata": {},
     "output_type": "display_data"
    },
    {
     "data": {
      "text/html": [
       "<div>\n",
       "<style scoped>\n",
       "    .dataframe tbody tr th:only-of-type {\n",
       "        vertical-align: middle;\n",
       "    }\n",
       "\n",
       "    .dataframe tbody tr th {\n",
       "        vertical-align: top;\n",
       "    }\n",
       "\n",
       "    .dataframe thead th {\n",
       "        text-align: right;\n",
       "    }\n",
       "</style>\n",
       "<table border=\"1\" class=\"dataframe\">\n",
       "  <thead>\n",
       "    <tr style=\"text-align: right;\">\n",
       "      <th></th>\n",
       "      <th>id_vvv</th>\n",
       "      <th>ra(J2000)</th>\n",
       "      <th>dec(J2000)</th>\n",
       "      <th>ksEMeanMagPawprint</th>\n",
       "    </tr>\n",
       "  </thead>\n",
       "  <tbody>\n",
       "    <tr>\n",
       "      <th>0</th>\n",
       "      <td>5.158818e+11</td>\n",
       "      <td>178.260193</td>\n",
       "      <td>-62.108135</td>\n",
       "      <td>16.703827</td>\n",
       "    </tr>\n",
       "    <tr>\n",
       "      <th>1</th>\n",
       "      <td>5.158818e+11</td>\n",
       "      <td>178.360626</td>\n",
       "      <td>-61.914257</td>\n",
       "      <td>13.738820</td>\n",
       "    </tr>\n",
       "  </tbody>\n",
       "</table>\n",
       "</div>"
      ],
      "text/plain": [
       "         id_vvv   ra(J2000)  dec(J2000)  ksEMeanMagPawprint\n",
       "0  5.158818e+11  178.260193  -62.108135           16.703827\n",
       "1  5.158818e+11  178.360626  -61.914257           13.738820"
      ]
     },
     "execution_count": 42,
     "metadata": {},
     "output_type": "execute_result"
    }
   ],
   "source": [
    "df_ebs = Features_total_32[['id_vvv', 'ra(J2000)', 'dec(J2000)','ksEMeanMagPawprint']]\n",
    "df_ebs = df_ebs.replace([np.inf, -np.inf], np.nan)\n",
    "df_ebs = df_ebs.fillna(0)\n",
    "display(df_ebs.shape)\n",
    "df_ebs.head(2)"
   ]
  },
  {
   "cell_type": "code",
   "execution_count": 43,
   "metadata": {},
   "outputs": [],
   "source": [
    "df_ebs.to_csv('outputs/outputPaso2ebs.csv', header=True, index=False)"
   ]
  },
  {
   "cell_type": "markdown",
   "metadata": {},
   "source": [
    "**Datos para clasificar**"
   ]
  },
  {
   "cell_type": "code",
   "execution_count": 44,
   "metadata": {},
   "outputs": [
    {
     "data": {
      "text/plain": [
       "(728, 70)"
      ]
     },
     "execution_count": 44,
     "metadata": {},
     "output_type": "execute_result"
    }
   ],
   "source": [
    "df_clasificar = Features_total_32.drop(['ra(J2000)', 'dec(J2000)','ksEMeanMagPawprint'], axis=1)\n",
    "df_clasificar = df_clasificar.replace([np.inf, -np.inf], np.nan)\n",
    "df_clasificar = df_clasificar.fillna(0)\n",
    "df_clasificar.shape"
   ]
  },
  {
   "cell_type": "code",
   "execution_count": 45,
   "metadata": {},
   "outputs": [
    {
     "data": {
      "text/plain": [
       "'Existen valores NaN'"
      ]
     },
     "metadata": {},
     "output_type": "display_data"
    },
    {
     "data": {
      "text/plain": [
       "False"
      ]
     },
     "metadata": {},
     "output_type": "display_data"
    }
   ],
   "source": [
    "display('Existen valores NaN', df_clasificar.isnull().values.any())"
   ]
  },
  {
   "cell_type": "code",
   "execution_count": 46,
   "metadata": {},
   "outputs": [],
   "source": [
    "df_clasificar.to_csv('outputs/outputPaso2clasificar.csv', header=True, index=False)"
   ]
  },
  {
   "cell_type": "code",
   "execution_count": null,
   "metadata": {},
   "outputs": [],
   "source": []
  },
  {
   "cell_type": "code",
   "execution_count": 47,
   "metadata": {},
   "outputs": [
    {
     "name": "stdout",
     "output_type": "stream",
     "text": [
      "fuente 515881822600.0\n"
     ]
    },
    {
     "data": {
      "text/plain": [
       "0.37503719329833984"
      ]
     },
     "metadata": {},
     "output_type": "display_data"
    },
    {
     "data": {
      "text/plain": [
       "0.05848671868443489"
      ]
     },
     "metadata": {},
     "output_type": "display_data"
    },
    {
     "name": "stdout",
     "output_type": "stream",
     "text": [
      "fuente 515881822600.0\n"
     ]
    },
    {
     "data": {
      "text/plain": [
       "0.3750371933000007"
      ]
     },
     "metadata": {},
     "output_type": "display_data"
    },
    {
     "data": {
      "text/plain": [
       "0.0584867179582004"
      ]
     },
     "execution_count": 47,
     "metadata": {},
     "output_type": "execute_result"
    }
   ],
   "source": [
    "# Ahora\n",
    "print('fuente', Features_total_32.id_vvv.iloc[0])\n",
    "display(Features_total_32.iloc[0].Amplitude)\n",
    "display(Features_total_32.iloc[0].Period_PAN)\n",
    "\n",
    "# Antes\n",
    "print('fuente', Features_total.id_vvv.iloc[0])\n",
    "display(Features_total.iloc[0].Amplitude)\n",
    "Features_total.iloc[0].Period_PAN"
   ]
  },
  {
   "cell_type": "code",
   "execution_count": 48,
   "metadata": {},
   "outputs": [
    {
     "name": "stdout",
     "output_type": "stream",
     "text": [
      "<class 'pandas.core.frame.DataFrame'>\n",
      "RangeIndex: 728 entries, 0 to 727\n",
      "Data columns (total 73 columns):\n",
      " #   Column                           Non-Null Count  Dtype  \n",
      "---  ------                           --------------  -----  \n",
      " 0   id_vvv                           728 non-null    float64\n",
      " 1   Amplitude                        728 non-null    float32\n",
      " 2   AndersonDarling                  728 non-null    float32\n",
      " 3   Autocor_length                   728 non-null    float32\n",
      " 4   Beyond1Std                       728 non-null    float32\n",
      " 5   CAR_mean                         728 non-null    float32\n",
      " 6   CAR_sigma                        728 non-null    float32\n",
      " 7   CAR_tau                          728 non-null    float32\n",
      " 8   Con                              728 non-null    float32\n",
      " 9   Eta_e                            25 non-null     float32\n",
      " 10  FluxPercentileRatioMid20         728 non-null    float32\n",
      " 11  FluxPercentileRatioMid35         728 non-null    float32\n",
      " 12  FluxPercentileRatioMid50         728 non-null    float32\n",
      " 13  FluxPercentileRatioMid65         728 non-null    float32\n",
      " 14  FluxPercentileRatioMid80         728 non-null    float32\n",
      " 15  Freq1_harmonics_amplitude_0      728 non-null    float32\n",
      " 16  Freq1_harmonics_amplitude_1      728 non-null    float32\n",
      " 17  Freq1_harmonics_amplitude_2      728 non-null    float32\n",
      " 18  Freq1_harmonics_amplitude_3      728 non-null    float32\n",
      " 19  Freq1_harmonics_rel_phase_0      728 non-null    float32\n",
      " 20  Freq1_harmonics_rel_phase_1      728 non-null    float32\n",
      " 21  Freq1_harmonics_rel_phase_2      728 non-null    float32\n",
      " 22  Freq1_harmonics_rel_phase_3      728 non-null    float32\n",
      " 23  Freq2_harmonics_amplitude_0      728 non-null    float32\n",
      " 24  Freq2_harmonics_amplitude_1      728 non-null    float32\n",
      " 25  Freq2_harmonics_amplitude_2      728 non-null    float32\n",
      " 26  Freq2_harmonics_amplitude_3      728 non-null    float32\n",
      " 27  Freq2_harmonics_rel_phase_0      728 non-null    float32\n",
      " 28  Freq2_harmonics_rel_phase_1      728 non-null    float32\n",
      " 29  Freq2_harmonics_rel_phase_2      728 non-null    float32\n",
      " 30  Freq2_harmonics_rel_phase_3      728 non-null    float32\n",
      " 31  Freq3_harmonics_amplitude_0      728 non-null    float32\n",
      " 32  Freq3_harmonics_amplitude_1      728 non-null    float32\n",
      " 33  Freq3_harmonics_amplitude_2      728 non-null    float32\n",
      " 34  Freq3_harmonics_amplitude_3      728 non-null    float32\n",
      " 35  Freq3_harmonics_rel_phase_0      728 non-null    float32\n",
      " 36  Freq3_harmonics_rel_phase_1      728 non-null    float32\n",
      " 37  Freq3_harmonics_rel_phase_2      728 non-null    float32\n",
      " 38  Freq3_harmonics_rel_phase_3      728 non-null    float32\n",
      " 39  Gskew                            728 non-null    float32\n",
      " 40  LinearTrend                      728 non-null    float32\n",
      " 41  MaxSlope                         49 non-null     float32\n",
      " 42  Mean                             728 non-null    float32\n",
      " 43  Meanvariance                     728 non-null    float32\n",
      " 44  MedianAbsDev                     728 non-null    float32\n",
      " 45  MedianBRP                        728 non-null    float32\n",
      " 46  PairSlopeTrend                   728 non-null    float32\n",
      " 47  PercentAmplitude                 728 non-null    float32\n",
      " 48  PercentDifferenceFluxPercentile  728 non-null    float32\n",
      " 49  PeriodLS                         728 non-null    float32\n",
      " 50  Period_fit                       727 non-null    float32\n",
      " 51  Psi_CS                           728 non-null    float32\n",
      " 52  Psi_eta                          728 non-null    float32\n",
      " 53  Q31                              728 non-null    float32\n",
      " 54  Rcs                              728 non-null    float32\n",
      " 55  Skew                             728 non-null    float32\n",
      " 56  SlottedA_length                  728 non-null    float32\n",
      " 57  SmallKurtosis                    728 non-null    float32\n",
      " 58  Std                              728 non-null    float32\n",
      " 59  StetsonK                         728 non-null    float32\n",
      " 60  StetsonK_AC                      728 non-null    float32\n",
      " 61  StructureFunction_index_21       728 non-null    float32\n",
      " 62  StructureFunction_index_31       728 non-null    float32\n",
      " 63  StructureFunction_index_32       728 non-null    float32\n",
      " 64  ra(J2000)                        728 non-null    float32\n",
      " 65  dec(J2000)                       728 non-null    float32\n",
      " 66  ksEMeanMagPawprint               728 non-null    float32\n",
      " 67  Period_KFI                       728 non-null    float32\n",
      " 68  Period_PAN                       728 non-null    float32\n",
      " 69  Period_LSG                       728 non-null    float32\n",
      " 70  Period_PDM                       728 non-null    float32\n",
      " 71  Period_STR                       728 non-null    float32\n",
      " 72  dmin                             728 non-null    float32\n",
      "dtypes: float32(72), float64(1)\n",
      "memory usage: 210.6 KB\n"
     ]
    }
   ],
   "source": [
    "Features_total_32.info()"
   ]
  },
  {
   "cell_type": "code",
   "execution_count": null,
   "metadata": {},
   "outputs": [],
   "source": []
  },
  {
   "cell_type": "code",
   "execution_count": null,
   "metadata": {},
   "outputs": [],
   "source": []
  }
 ],
 "metadata": {
  "kernelspec": {
   "display_name": "Python 3",
   "language": "python",
   "name": "python3"
  },
  "language_info": {
   "codemirror_mode": {
    "name": "ipython",
    "version": 3
   },
   "file_extension": ".py",
   "mimetype": "text/x-python",
   "name": "python",
   "nbconvert_exporter": "python",
   "pygments_lexer": "ipython3",
   "version": "3.8.3"
  }
 },
 "nbformat": 4,
 "nbformat_minor": 4
}
